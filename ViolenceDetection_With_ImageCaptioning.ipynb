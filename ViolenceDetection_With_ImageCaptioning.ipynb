{
  "cells": [
    {
      "cell_type": "markdown",
      "metadata": {
        "colab_type": "text",
        "id": "view-in-github"
      },
      "source": [
        "<a href=\"https://colab.research.google.com/github/CrazyTiger8903/Study_Pytorch/blob/main/ViolenceDetectionWithImageCaptioning.ipynb\" target=\"_parent\"><img src=\"https://colab.research.google.com/assets/colab-badge.svg\" alt=\"Open In Colab\"/></a>"
      ]
    },
    {
      "cell_type": "code",
      "execution_count": null,
      "metadata": {
        "colab": {
          "base_uri": "https://localhost:8080/"
        },
        "id": "z_a6541nJPId",
        "outputId": "0862dc5a-4f48-4bca-c1d4-59940a90c92c"
      },
      "outputs": [],
      "source": [
        "!pip install streamlit -q"
      ]
    },
    {
      "cell_type": "code",
      "execution_count": null,
      "metadata": {
        "colab": {
          "base_uri": "https://localhost:8080/"
        },
        "id": "d82ncTkf_ak3",
        "outputId": "02afaae4-1198-43e2-ab39-babdb09a33f6"
      },
      "outputs": [],
      "source": [
        "!pip install pyngrok==5.1.0"
      ]
    },
    {
      "cell_type": "code",
      "execution_count": null,
      "metadata": {
        "colab": {
          "base_uri": "https://localhost:8080/"
        },
        "id": "6D4O9rr1AE_I",
        "outputId": "686528cb-76c5-4530-ffa5-6856ceefcb84"
      },
      "outputs": [],
      "source": [
        "from pyngrok import ngrok\n",
        "\n",
        "ngrok.set_auth_token('')"
      ]
    },
    {
      "cell_type": "code",
      "execution_count": null,
      "metadata": {
        "colab": {
          "base_uri": "https://localhost:8080/"
        },
        "id": "u8A-eXNpByIP",
        "outputId": "7d023e2b-a435-45af-bcd8-d18a4489909d"
      },
      "outputs": [],
      "source": [
        "# 필요한 라이브러리 및 패키지 설치\n",
        "!pip install git+https://github.com/huggingface/transformers.git@main\n",
        "!pip install -q datasets"
      ]
    },
    {
      "cell_type": "code",
      "execution_count": null,
      "metadata": {
        "colab": {
          "base_uri": "https://localhost:8080/"
        },
        "id": "fPe1_FV379n2",
        "outputId": "cba80729-3267-41fa-953a-f2c2b56d5c30"
      },
      "outputs": [],
      "source": [
        "!pip install transformers"
      ]
    },
    {
      "cell_type": "code",
      "execution_count": null,
      "metadata": {
        "colab": {
          "base_uri": "https://localhost:8080/"
        },
        "id": "Sw-4cHv_1ByQ",
        "outputId": "20538640-f2f9-48d1-aa58-63f2b377b552"
      },
      "outputs": [],
      "source": [
        "%%writefile app.py\n",
        "import streamlit as st\n",
        "import torch\n",
        "from PIL import Image, ImageOps\n",
        "import matplotlib.pyplot as plt\n",
        "from transformers import BlipForConditionalGeneration, AutoProcessor\n",
        "from torch.utils.data import DataLoader\n",
        "from transformers import AutoProcessor, BlipForConditionalGeneration\n",
        "import nltk\n",
        "from nltk.translate.bleu_score import sentence_bleu\n",
        "from transformers import AutoTokenizer  # Assuming you are using a pretrained model from Hugging Face\n",
        "import torch.nn.functional as F\n",
        "from transformers import BertForSequenceClassification, BertTokenizer\n",
        "nltk.download(\"punkt\")\n",
        "\n",
        "device = torch.device(\"cuda\" if torch.cuda.is_available() else \"cpu\")\n",
        "\n",
        "label_map = {0: 'normal', 1: 'normal', 2: 'caution', 3: 'caution', 4: 'caution', 5: 'danger',\n",
        "             6: 'danger', 7: 'danger'}\n",
        "\n",
        "# 모델 및 이미지 경로 정의\n",
        "model_save_path = \"/content/drive/MyDrive/blip_finetuning_weight/5_blip_model_weights.pth\"\n",
        "# 저장된 모델 불러오기\n",
        "blip_model = BlipForConditionalGeneration.from_pretrained(model_save_path)\n",
        "\n",
        "# Processor 불러오기\n",
        "processor = AutoProcessor.from_pretrained(\"Salesforce/blip-image-captioning-base\")\n",
        "\n",
        "# Load the saved model and tokenizer\n",
        "bert_model = BertForSequenceClassification.from_pretrained('/content/drive/MyDrive/blip_mc')\n",
        "tokenizer = BertTokenizer.from_pretrained('/content/drive/MyDrive/blip_mc')\n",
        "# Set the device for inference\n",
        "bert_model.to(device)\n",
        "\n",
        "blip_model.eval()\n",
        "bert_model.eval()\n",
        "\n",
        "\n",
        "# Streamlit page config\n",
        "st.set_page_config(layout=\"wide\", page_title=\"Image Captioning and Classification\")\n",
        "\n",
        "# Custom CSS for styling\n",
        "st.markdown(\"\"\"\n",
        "    <style>\n",
        "    .team-member {\n",
        "        text-align: center;\n",
        "        margin-bottom: 20px;\n",
        "    }\n",
        "    .team-member img {\n",
        "        border-radius: 50%;\n",
        "        width: 100px;\n",
        "        height: 100px;\n",
        "        object-fit: cover;\n",
        "        margin-bottom: 10px;\n",
        "    }\n",
        "    .team-member h3 {\n",
        "        margin-bottom: 5px;\n",
        "    }\n",
        "    .team-member p {\n",
        "        font-size: 14px;\n",
        "        color: #666;\n",
        "    }\n",
        "    .footer {\n",
        "        text-align: center;\n",
        "        padding-top: 20px;\n",
        "    }\n",
        "    .footer img {\n",
        "        max-width: 150px;\n",
        "        margin-bottom: 10px;\n",
        "    }\n",
        "    .risk-label {\n",
        "        font-size: 20px; /* Increased font size */\n",
        "        font-weight: bold;\n",
        "    }\n",
        "    .normal { color: blue; }\n",
        "    .caution { color: green; }\n",
        "    .danger { color: red; }\n",
        "    .section-space {\n",
        "        margin-top: 50px; /* Space between sections */\n",
        "    }\n",
        "    </style>\n",
        "    \"\"\", unsafe_allow_html=True)\n",
        "\n",
        "# Streamlit layout\n",
        "st.title(\"Image Captioning and Classification\")\n",
        "st.markdown(\"This tool uses BLIP for image captioning and a BERT model for classification. Upload an image to get started.\")\n",
        "\n",
        "# Sidebar for image upload\n",
        "with st.sidebar:\n",
        "    st.write(\"## Upload Image\")\n",
        "    uploaded_image = st.file_uploader(\"Choose an image...\", type=[\"jpg\", \"jpeg\", \"png\"])\n",
        "\n",
        "# Main page layout\n",
        "if uploaded_image is not None:\n",
        "    # Image processing for consistent size\n",
        "    image = Image.open(uploaded_image)\n",
        "    image = ImageOps.fit(image, (500, 500), Image.ANTIALIAS)\n",
        "\n",
        "    col1, col2 = st.columns([1, 2])\n",
        "\n",
        "    with col1:\n",
        "        st.image(image, caption='Uploaded Image')\n",
        "\n",
        "    with col2:\n",
        "        st.subheader(\"Results\")\n",
        "\n",
        "        # Caption generation\n",
        "        inputs = processor(images=image, padding=\"max_length\", return_tensors=\"pt\")\n",
        "        with torch.no_grad():\n",
        "            outputs = blip_model.generate(**inputs)\n",
        "        generated_captions = processor.batch_decode(outputs, skip_special_tokens=True)\n",
        "\n",
        "        st.markdown(\"### Generated Captions\")\n",
        "        for caption in generated_captions:\n",
        "            st.markdown(f\"* {caption}\")\n",
        "\n",
        "        # Classification\n",
        "        inputs = tokenizer(generated_captions, padding=True, truncation=True, return_tensors=\"pt\")\n",
        "        input_ids = inputs[\"input_ids\"].to(device)\n",
        "        attention_mask = inputs[\"attention_mask\"].to(device)\n",
        "\n",
        "        with torch.no_grad():\n",
        "            inputs = {\"input_ids\": input_ids, \"attention_mask\": attention_mask}\n",
        "            outputs = bert_model(**inputs)\n",
        "            logits = outputs.logits\n",
        "            probabilities = F.softmax(logits, dim=1)\n",
        "\n",
        "            st.markdown(\"### Classification Results\")\n",
        "\n",
        "            for i, caption in enumerate(generated_captions):\n",
        "                max_label_id = torch.argmax(probabilities[i]).item()\n",
        "                max_label_name = label_map[max_label_id]\n",
        "                label_class = \"normal\" if max_label_id < 2 else \"caution\" if max_label_id < 5 else \"danger\"\n",
        "                st.markdown(f\"<span class='risk-label {label_class}'>Predicted degree of danger: {max_label_name}</span>\", unsafe_allow_html=True)\n",
        "\n",
        "else:\n",
        "    st.write(\"Please upload an image to start.\")\n",
        "\n",
        "# Company Introduction with added spacing\n",
        "st.markdown(\"<div class='section-space'></div>\", unsafe_allow_html=True)  # Adds spacing\n",
        "# Company Introduction\n",
        "\n",
        "# Footer\n",
        "st.markdown(\"\"\"\n",
        "    <div class='footer'>\n",
        "        <p><strong>Follow Follow Me</strong><br>\n",
        "        Chungbuk National University<br>\n",
        "        For inquiries, contact us at MDG@cbnu.ac.kr</p>\n",
        "    </div>\n",
        "    \"\"\", unsafe_allow_html=True)"
      ]
    },
    {
      "cell_type": "code",
      "execution_count": null,
      "metadata": {
        "colab": {
          "base_uri": "https://localhost:8080/"
        },
        "id": "fmqn4JmtjbuG",
        "outputId": "ae7edd05-4946-40b7-ddc4-139488af0434"
      },
      "outputs": [],
      "source": [
        "!ls"
      ]
    },
    {
      "cell_type": "code",
      "execution_count": null,
      "metadata": {
        "colab": {
          "base_uri": "https://localhost:8080/"
        },
        "id": "8CzpngV0jbsD",
        "outputId": "45e54c69-a3c5-4aca-a331-5bbe206a64b8"
      },
      "outputs": [],
      "source": [
        "!nohup streamlit run app.py --server.port 80 &"
      ]
    },
    {
      "cell_type": "code",
      "execution_count": null,
      "metadata": {
        "colab": {
          "base_uri": "https://localhost:8080/"
        },
        "id": "zaKcZ3kNjbn-",
        "outputId": "92b78100-8e1b-4500-9f21-45ad393707c5"
      },
      "outputs": [],
      "source": [
        "url = ngrok.connect(port='80')\n",
        "url"
      ]
    },
    {
      "cell_type": "code",
      "execution_count": null,
      "metadata": {
        "id": "AMYS53WijbiK"
      },
      "outputs": [],
      "source": [
        "ngrok.kill()"
      ]
    },
    {
      "cell_type": "code",
      "execution_count": null,
      "metadata": {
        "id": "qF5cPn3IgWog"
      },
      "outputs": [],
      "source": []
    },
    {
      "cell_type": "code",
      "execution_count": null,
      "metadata": {
        "id": "WKSnGbJIgWmE"
      },
      "outputs": [],
      "source": []
    },
    {
      "cell_type": "code",
      "execution_count": null,
      "metadata": {
        "id": "j004F1d8gWjt"
      },
      "outputs": [],
      "source": []
    },
    {
      "cell_type": "code",
      "execution_count": null,
      "metadata": {
        "id": "TmN7WRstgWhm"
      },
      "outputs": [],
      "source": []
    },
    {
      "cell_type": "code",
      "execution_count": null,
      "metadata": {
        "id": "LK7FJ9a_gWe9"
      },
      "outputs": [],
      "source": []
    },
    {
      "cell_type": "code",
      "execution_count": null,
      "metadata": {
        "id": "FS866Mwl2DW_"
      },
      "outputs": [],
      "source": []
    }
  ],
  "metadata": {
    "accelerator": "GPU",
    "colab": {
      "authorship_tag": "ABX9TyPJfAT+VwjEP5QWhM3BhXxo",
      "gpuType": "T4",
      "include_colab_link": true,
      "mount_file_id": "1WvZRiFcLdok9Y1SxA3gtXUjU_YObc7UU",
      "provenance": []
    },
    "kernelspec": {
      "display_name": "Python 3",
      "name": "python3"
    },
    "language_info": {
      "name": "python"
    }
  },
  "nbformat": 4,
  "nbformat_minor": 0
}
