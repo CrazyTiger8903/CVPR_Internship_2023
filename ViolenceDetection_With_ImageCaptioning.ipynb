{
  "nbformat": 4,
  "nbformat_minor": 0,
  "metadata": {
    "colab": {
      "provenance": [],
      "gpuType": "T4",
      "mount_file_id": "1WvZRiFcLdok9Y1SxA3gtXUjU_YObc7UU",
      "authorship_tag": "ABX9TyPJfAT+VwjEP5QWhM3BhXxo",
      "include_colab_link": true
    },
    "kernelspec": {
      "name": "python3",
      "display_name": "Python 3"
    },
    "language_info": {
      "name": "python"
    },
    "accelerator": "GPU"
  },
  "cells": [
    {
      "cell_type": "markdown",
      "metadata": {
        "id": "view-in-github",
        "colab_type": "text"
      },
      "source": [
        "<a href=\"https://colab.research.google.com/github/CrazyTiger8903/Study_Pytorch/blob/main/ViolenceDetectionWithImageCaptioning.ipynb\" target=\"_parent\"><img src=\"https://colab.research.google.com/assets/colab-badge.svg\" alt=\"Open In Colab\"/></a>"
      ]
    },
    {
      "cell_type": "code",
      "source": [
        "!pip install streamlit -q"
      ],
      "metadata": {
        "id": "z_a6541nJPId",
        "colab": {
          "base_uri": "https://localhost:8080/"
        },
        "outputId": "0862dc5a-4f48-4bca-c1d4-59940a90c92c"
      },
      "execution_count": null,
      "outputs": [
        {
          "output_type": "stream",
          "name": "stdout",
          "text": [
            "\u001b[2K     \u001b[90m━━━━━━━━━━━━━━━━━━━━━━━━━━━━━━━━━━━━━━━━\u001b[0m \u001b[32m8.4/8.4 MB\u001b[0m \u001b[31m31.7 MB/s\u001b[0m eta \u001b[36m0:00:00\u001b[0m\n",
            "\u001b[2K     \u001b[90m━━━━━━━━━━━━━━━━━━━━━━━━━━━━━━━━━━━━━━━━\u001b[0m \u001b[32m190.6/190.6 kB\u001b[0m \u001b[31m25.3 MB/s\u001b[0m eta \u001b[36m0:00:00\u001b[0m\n",
            "\u001b[2K     \u001b[90m━━━━━━━━━━━━━━━━━━━━━━━━━━━━━━━━━━━━━━━━\u001b[0m \u001b[32m4.8/4.8 MB\u001b[0m \u001b[31m55.0 MB/s\u001b[0m eta \u001b[36m0:00:00\u001b[0m\n",
            "\u001b[2K     \u001b[90m━━━━━━━━━━━━━━━━━━━━━━━━━━━━━━━━━━━━━━━━\u001b[0m \u001b[32m82.1/82.1 kB\u001b[0m \u001b[31m6.7 MB/s\u001b[0m eta \u001b[36m0:00:00\u001b[0m\n",
            "\u001b[2K     \u001b[90m━━━━━━━━━━━━━━━━━━━━━━━━━━━━━━━━━━━━━━━━\u001b[0m \u001b[32m62.7/62.7 kB\u001b[0m \u001b[31m8.6 MB/s\u001b[0m eta \u001b[36m0:00:00\u001b[0m\n",
            "\u001b[?25h"
          ]
        }
      ]
    },
    {
      "cell_type": "code",
      "execution_count": null,
      "metadata": {
        "colab": {
          "base_uri": "https://localhost:8080/"
        },
        "id": "d82ncTkf_ak3",
        "outputId": "02afaae4-1198-43e2-ab39-babdb09a33f6"
      },
      "outputs": [
        {
          "output_type": "stream",
          "name": "stdout",
          "text": [
            "Collecting pyngrok==5.1.0\n",
            "  Downloading pyngrok-5.1.0.tar.gz (745 kB)\n",
            "\u001b[2K     \u001b[90m━━━━━━━━━━━━━━━━━━━━━━━━━━━━━━━━━━━━━━━━\u001b[0m \u001b[32m745.3/745.3 kB\u001b[0m \u001b[31m7.6 MB/s\u001b[0m eta \u001b[36m0:00:00\u001b[0m\n",
            "\u001b[?25h  Preparing metadata (setup.py) ... \u001b[?25l\u001b[?25hdone\n",
            "Requirement already satisfied: PyYAML in /usr/local/lib/python3.10/dist-packages (from pyngrok==5.1.0) (6.0.1)\n",
            "Building wheels for collected packages: pyngrok\n",
            "  Building wheel for pyngrok (setup.py) ... \u001b[?25l\u001b[?25hdone\n",
            "  Created wheel for pyngrok: filename=pyngrok-5.1.0-py3-none-any.whl size=18987 sha256=a0451d8f39639682a9bfc9b6bcd6d0f5b169d9856e387ce7bbfcf3bf3f6b8248\n",
            "  Stored in directory: /root/.cache/pip/wheels/42/46/5e/496d5251f1530ae9988fcd3aad34ad7a46de82d9cc0f61cad6\n",
            "Successfully built pyngrok\n",
            "Installing collected packages: pyngrok\n",
            "Successfully installed pyngrok-5.1.0\n"
          ]
        }
      ],
      "source": [
        "!pip install pyngrok==5.1.0"
      ]
    },
    {
      "cell_type": "code",
      "source": [
        "from pyngrok import ngrok\n",
        "\n",
        "ngrok.set_auth_token('')"
      ],
      "metadata": {
        "id": "6D4O9rr1AE_I",
        "colab": {
          "base_uri": "https://localhost:8080/"
        },
        "outputId": "686528cb-76c5-4530-ffa5-6856ceefcb84"
      },
      "execution_count": null,
      "outputs": [
        {
          "output_type": "stream",
          "name": "stdout",
          "text": []
        }
      ]
    },
    {
      "cell_type": "code",
      "source": [
        "# 필요한 라이브러리 및 패키지 설치\n",
        "!pip install git+https://github.com/huggingface/transformers.git@main\n",
        "!pip install -q datasets"
      ],
      "metadata": {
        "colab": {
          "base_uri": "https://localhost:8080/"
        },
        "id": "u8A-eXNpByIP",
        "outputId": "7d023e2b-a435-45af-bcd8-d18a4489909d"
      },
      "execution_count": null,
      "outputs": [
        {
          "output_type": "stream",
          "name": "stdout",
          "text": [
            "Collecting git+https://github.com/huggingface/transformers.git@main\n",
            "  Cloning https://github.com/huggingface/transformers.git (to revision main) to /tmp/pip-req-build-kw0f_a8f\n",
            "  Running command git clone --filter=blob:none --quiet https://github.com/huggingface/transformers.git /tmp/pip-req-build-kw0f_a8f\n",
            "  Resolved https://github.com/huggingface/transformers.git to commit 1a585c1222a56bcaecc070966d558d4a9d862e83\n",
            "  Installing build dependencies ... \u001b[?25l\u001b[?25hdone\n",
            "  Getting requirements to build wheel ... \u001b[?25l\u001b[?25hdone\n",
            "  Preparing metadata (pyproject.toml) ... \u001b[?25l\u001b[?25hdone\n",
            "Requirement already satisfied: filelock in /usr/local/lib/python3.10/dist-packages (from transformers==4.37.0.dev0) (3.13.1)\n",
            "Requirement already satisfied: huggingface-hub<1.0,>=0.19.3 in /usr/local/lib/python3.10/dist-packages (from transformers==4.37.0.dev0) (0.19.4)\n",
            "Requirement already satisfied: numpy>=1.17 in /usr/local/lib/python3.10/dist-packages (from transformers==4.37.0.dev0) (1.23.5)\n",
            "Requirement already satisfied: packaging>=20.0 in /usr/local/lib/python3.10/dist-packages (from transformers==4.37.0.dev0) (23.2)\n",
            "Requirement already satisfied: pyyaml>=5.1 in /usr/local/lib/python3.10/dist-packages (from transformers==4.37.0.dev0) (6.0.1)\n",
            "Requirement already satisfied: regex!=2019.12.17 in /usr/local/lib/python3.10/dist-packages (from transformers==4.37.0.dev0) (2023.6.3)\n",
            "Requirement already satisfied: requests in /usr/local/lib/python3.10/dist-packages (from transformers==4.37.0.dev0) (2.31.0)\n",
            "Requirement already satisfied: tokenizers<0.19,>=0.14 in /usr/local/lib/python3.10/dist-packages (from transformers==4.37.0.dev0) (0.15.0)\n",
            "Requirement already satisfied: safetensors>=0.3.1 in /usr/local/lib/python3.10/dist-packages (from transformers==4.37.0.dev0) (0.4.1)\n",
            "Requirement already satisfied: tqdm>=4.27 in /usr/local/lib/python3.10/dist-packages (from transformers==4.37.0.dev0) (4.66.1)\n",
            "Requirement already satisfied: fsspec>=2023.5.0 in /usr/local/lib/python3.10/dist-packages (from huggingface-hub<1.0,>=0.19.3->transformers==4.37.0.dev0) (2023.6.0)\n",
            "Requirement already satisfied: typing-extensions>=3.7.4.3 in /usr/local/lib/python3.10/dist-packages (from huggingface-hub<1.0,>=0.19.3->transformers==4.37.0.dev0) (4.5.0)\n",
            "Requirement already satisfied: charset-normalizer<4,>=2 in /usr/local/lib/python3.10/dist-packages (from requests->transformers==4.37.0.dev0) (3.3.2)\n",
            "Requirement already satisfied: idna<4,>=2.5 in /usr/local/lib/python3.10/dist-packages (from requests->transformers==4.37.0.dev0) (3.6)\n",
            "Requirement already satisfied: urllib3<3,>=1.21.1 in /usr/local/lib/python3.10/dist-packages (from requests->transformers==4.37.0.dev0) (2.0.7)\n",
            "Requirement already satisfied: certifi>=2017.4.17 in /usr/local/lib/python3.10/dist-packages (from requests->transformers==4.37.0.dev0) (2023.11.17)\n",
            "Building wheels for collected packages: transformers\n",
            "  Building wheel for transformers (pyproject.toml) ... \u001b[?25l\u001b[?25hdone\n",
            "  Created wheel for transformers: filename=transformers-4.37.0.dev0-py3-none-any.whl size=8269322 sha256=fc324e9bbe0fd4cbdcca5a2a9cf584ab62fdecfb13870414288560bad763306a\n",
            "  Stored in directory: /tmp/pip-ephem-wheel-cache-j8k56x1t/wheels/cf/59/82/6492402e887a68975030bf8c06532260abc16abb7ccd8127cc\n",
            "Successfully built transformers\n",
            "Installing collected packages: transformers\n",
            "  Attempting uninstall: transformers\n",
            "    Found existing installation: transformers 4.35.2\n",
            "    Uninstalling transformers-4.35.2:\n",
            "      Successfully uninstalled transformers-4.35.2\n",
            "Successfully installed transformers-4.37.0.dev0\n",
            "\u001b[2K     \u001b[90m━━━━━━━━━━━━━━━━━━━━━━━━━━━━━━━━━━━━━━━━\u001b[0m \u001b[32m521.2/521.2 kB\u001b[0m \u001b[31m8.1 MB/s\u001b[0m eta \u001b[36m0:00:00\u001b[0m\n",
            "\u001b[2K     \u001b[90m━━━━━━━━━━━━━━━━━━━━━━━━━━━━━━━━━━━━━━━━\u001b[0m \u001b[32m115.3/115.3 kB\u001b[0m \u001b[31m13.0 MB/s\u001b[0m eta \u001b[36m0:00:00\u001b[0m\n",
            "\u001b[2K     \u001b[90m━━━━━━━━━━━━━━━━━━━━━━━━━━━━━━━━━━━━━━━━\u001b[0m \u001b[32m134.8/134.8 kB\u001b[0m \u001b[31m15.3 MB/s\u001b[0m eta \u001b[36m0:00:00\u001b[0m\n",
            "\u001b[?25h"
          ]
        }
      ]
    },
    {
      "cell_type": "code",
      "source": [
        "!pip install transformers"
      ],
      "metadata": {
        "colab": {
          "base_uri": "https://localhost:8080/"
        },
        "id": "fPe1_FV379n2",
        "outputId": "cba80729-3267-41fa-953a-f2c2b56d5c30"
      },
      "execution_count": null,
      "outputs": [
        {
          "output_type": "stream",
          "name": "stdout",
          "text": [
            "Requirement already satisfied: transformers in /usr/local/lib/python3.10/dist-packages (4.37.0.dev0)\n",
            "Requirement already satisfied: filelock in /usr/local/lib/python3.10/dist-packages (from transformers) (3.13.1)\n",
            "Requirement already satisfied: huggingface-hub<1.0,>=0.19.3 in /usr/local/lib/python3.10/dist-packages (from transformers) (0.19.4)\n",
            "Requirement already satisfied: numpy>=1.17 in /usr/local/lib/python3.10/dist-packages (from transformers) (1.23.5)\n",
            "Requirement already satisfied: packaging>=20.0 in /usr/local/lib/python3.10/dist-packages (from transformers) (23.2)\n",
            "Requirement already satisfied: pyyaml>=5.1 in /usr/local/lib/python3.10/dist-packages (from transformers) (6.0.1)\n",
            "Requirement already satisfied: regex!=2019.12.17 in /usr/local/lib/python3.10/dist-packages (from transformers) (2023.6.3)\n",
            "Requirement already satisfied: requests in /usr/local/lib/python3.10/dist-packages (from transformers) (2.31.0)\n",
            "Requirement already satisfied: tokenizers<0.19,>=0.14 in /usr/local/lib/python3.10/dist-packages (from transformers) (0.15.0)\n",
            "Requirement already satisfied: safetensors>=0.3.1 in /usr/local/lib/python3.10/dist-packages (from transformers) (0.4.1)\n",
            "Requirement already satisfied: tqdm>=4.27 in /usr/local/lib/python3.10/dist-packages (from transformers) (4.66.1)\n",
            "Requirement already satisfied: fsspec>=2023.5.0 in /usr/local/lib/python3.10/dist-packages (from huggingface-hub<1.0,>=0.19.3->transformers) (2023.6.0)\n",
            "Requirement already satisfied: typing-extensions>=3.7.4.3 in /usr/local/lib/python3.10/dist-packages (from huggingface-hub<1.0,>=0.19.3->transformers) (4.5.0)\n",
            "Requirement already satisfied: charset-normalizer<4,>=2 in /usr/local/lib/python3.10/dist-packages (from requests->transformers) (3.3.2)\n",
            "Requirement already satisfied: idna<4,>=2.5 in /usr/local/lib/python3.10/dist-packages (from requests->transformers) (3.6)\n",
            "Requirement already satisfied: urllib3<3,>=1.21.1 in /usr/local/lib/python3.10/dist-packages (from requests->transformers) (2.0.7)\n",
            "Requirement already satisfied: certifi>=2017.4.17 in /usr/local/lib/python3.10/dist-packages (from requests->transformers) (2023.11.17)\n"
          ]
        }
      ]
    },
    {
      "cell_type": "code",
      "source": [
        "%%writefile app.py\n",
        "import streamlit as st\n",
        "import torch\n",
        "from PIL import Image, ImageOps\n",
        "import matplotlib.pyplot as plt\n",
        "from transformers import BlipForConditionalGeneration, AutoProcessor\n",
        "from torch.utils.data import DataLoader\n",
        "from transformers import AutoProcessor, BlipForConditionalGeneration\n",
        "import nltk\n",
        "from nltk.translate.bleu_score import sentence_bleu\n",
        "from transformers import AutoTokenizer  # Assuming you are using a pretrained model from Hugging Face\n",
        "import torch.nn.functional as F\n",
        "from transformers import BertForSequenceClassification, BertTokenizer\n",
        "nltk.download(\"punkt\")\n",
        "\n",
        "device = torch.device(\"cuda\" if torch.cuda.is_available() else \"cpu\")\n",
        "\n",
        "label_map = {0: 'normal', 1: 'normal', 2: 'caution', 3: 'caution', 4: 'caution', 5: 'danger',\n",
        "             6: 'danger', 7: 'danger'}\n",
        "\n",
        "# 모델 및 이미지 경로 정의\n",
        "model_save_path = \"/content/drive/MyDrive/blip_finetuning_weight/5_blip_model_weights.pth\"\n",
        "# 저장된 모델 불러오기\n",
        "blip_model = BlipForConditionalGeneration.from_pretrained(model_save_path)\n",
        "\n",
        "# Processor 불러오기\n",
        "processor = AutoProcessor.from_pretrained(\"Salesforce/blip-image-captioning-base\")\n",
        "\n",
        "# Load the saved model and tokenizer\n",
        "bert_model = BertForSequenceClassification.from_pretrained('/content/drive/MyDrive/blip_mc')\n",
        "tokenizer = BertTokenizer.from_pretrained('/content/drive/MyDrive/blip_mc')\n",
        "# Set the device for inference\n",
        "bert_model.to(device)\n",
        "\n",
        "blip_model.eval()\n",
        "bert_model.eval()\n",
        "\n",
        "\n",
        "# Streamlit page config\n",
        "st.set_page_config(layout=\"wide\", page_title=\"Image Captioning and Classification\")\n",
        "\n",
        "# Custom CSS for styling\n",
        "st.markdown(\"\"\"\n",
        "    <style>\n",
        "    .team-member {\n",
        "        text-align: center;\n",
        "        margin-bottom: 20px;\n",
        "    }\n",
        "    .team-member img {\n",
        "        border-radius: 50%;\n",
        "        width: 100px;\n",
        "        height: 100px;\n",
        "        object-fit: cover;\n",
        "        margin-bottom: 10px;\n",
        "    }\n",
        "    .team-member h3 {\n",
        "        margin-bottom: 5px;\n",
        "    }\n",
        "    .team-member p {\n",
        "        font-size: 14px;\n",
        "        color: #666;\n",
        "    }\n",
        "    .footer {\n",
        "        text-align: center;\n",
        "        padding-top: 20px;\n",
        "    }\n",
        "    .footer img {\n",
        "        max-width: 150px;\n",
        "        margin-bottom: 10px;\n",
        "    }\n",
        "    .risk-label {\n",
        "        font-size: 20px; /* Increased font size */\n",
        "        font-weight: bold;\n",
        "    }\n",
        "    .normal { color: blue; }\n",
        "    .caution { color: green; }\n",
        "    .danger { color: red; }\n",
        "    .section-space {\n",
        "        margin-top: 50px; /* Space between sections */\n",
        "    }\n",
        "    </style>\n",
        "    \"\"\", unsafe_allow_html=True)\n",
        "\n",
        "# Streamlit layout\n",
        "st.title(\"Image Captioning and Classification\")\n",
        "st.markdown(\"This tool uses BLIP for image captioning and a BERT model for classification. Upload an image to get started.\")\n",
        "\n",
        "# Sidebar for image upload\n",
        "with st.sidebar:\n",
        "    st.write(\"## Upload Image\")\n",
        "    uploaded_image = st.file_uploader(\"Choose an image...\", type=[\"jpg\", \"jpeg\", \"png\"])\n",
        "\n",
        "# Main page layout\n",
        "if uploaded_image is not None:\n",
        "    # Image processing for consistent size\n",
        "    image = Image.open(uploaded_image)\n",
        "    image = ImageOps.fit(image, (500, 500), Image.ANTIALIAS)\n",
        "\n",
        "    col1, col2 = st.columns([1, 2])\n",
        "\n",
        "    with col1:\n",
        "        st.image(image, caption='Uploaded Image')\n",
        "\n",
        "    with col2:\n",
        "        st.subheader(\"Results\")\n",
        "\n",
        "        # Caption generation\n",
        "        inputs = processor(images=image, padding=\"max_length\", return_tensors=\"pt\")\n",
        "        with torch.no_grad():\n",
        "            outputs = blip_model.generate(**inputs)\n",
        "        generated_captions = processor.batch_decode(outputs, skip_special_tokens=True)\n",
        "\n",
        "        st.markdown(\"### Generated Captions\")\n",
        "        for caption in generated_captions:\n",
        "            st.markdown(f\"* {caption}\")\n",
        "\n",
        "        # Classification\n",
        "        inputs = tokenizer(generated_captions, padding=True, truncation=True, return_tensors=\"pt\")\n",
        "        input_ids = inputs[\"input_ids\"].to(device)\n",
        "        attention_mask = inputs[\"attention_mask\"].to(device)\n",
        "\n",
        "        with torch.no_grad():\n",
        "            inputs = {\"input_ids\": input_ids, \"attention_mask\": attention_mask}\n",
        "            outputs = bert_model(**inputs)\n",
        "            logits = outputs.logits\n",
        "            probabilities = F.softmax(logits, dim=1)\n",
        "\n",
        "            st.markdown(\"### Classification Results\")\n",
        "\n",
        "            for i, caption in enumerate(generated_captions):\n",
        "                max_label_id = torch.argmax(probabilities[i]).item()\n",
        "                max_label_name = label_map[max_label_id]\n",
        "                label_class = \"normal\" if max_label_id < 2 else \"caution\" if max_label_id < 5 else \"danger\"\n",
        "                st.markdown(f\"<span class='risk-label {label_class}'>Predicted degree of danger: {max_label_name}</span>\", unsafe_allow_html=True)\n",
        "\n",
        "else:\n",
        "    st.write(\"Please upload an image to start.\")\n",
        "\n",
        "# Company Introduction with added spacing\n",
        "st.markdown(\"<div class='section-space'></div>\", unsafe_allow_html=True)  # Adds spacing\n",
        "# Company Introduction\n",
        "\n",
        "# Footer\n",
        "st.markdown(\"\"\"\n",
        "    <div class='footer'>\n",
        "        <p><strong>Follow Follow Me</strong><br>\n",
        "        Chungbuk National University<br>\n",
        "        For inquiries, contact us at MDG@cbnu.ac.kr</p>\n",
        "    </div>\n",
        "    \"\"\", unsafe_allow_html=True)"
      ],
      "metadata": {
        "colab": {
          "base_uri": "https://localhost:8080/"
        },
        "id": "Sw-4cHv_1ByQ",
        "outputId": "20538640-f2f9-48d1-aa58-63f2b377b552"
      },
      "execution_count": null,
      "outputs": [
        {
          "output_type": "stream",
          "name": "stdout",
          "text": [
            "Writing app.py\n"
          ]
        }
      ]
    },
    {
      "cell_type": "code",
      "source": [
        "!ls"
      ],
      "metadata": {
        "colab": {
          "base_uri": "https://localhost:8080/"
        },
        "id": "fmqn4JmtjbuG",
        "outputId": "ae7edd05-4946-40b7-ddc4-139488af0434"
      },
      "execution_count": null,
      "outputs": [
        {
          "output_type": "stream",
          "name": "stdout",
          "text": [
            "app.py\tdrive  sample_data\n"
          ]
        }
      ]
    },
    {
      "cell_type": "code",
      "source": [
        "!nohup streamlit run app.py --server.port 80 &"
      ],
      "metadata": {
        "colab": {
          "base_uri": "https://localhost:8080/"
        },
        "id": "8CzpngV0jbsD",
        "outputId": "45e54c69-a3c5-4aca-a331-5bbe206a64b8"
      },
      "execution_count": null,
      "outputs": [
        {
          "output_type": "stream",
          "name": "stdout",
          "text": [
            "nohup: appending output to 'nohup.out'\n"
          ]
        }
      ]
    },
    {
      "cell_type": "code",
      "source": [
        "url = ngrok.connect(port='80')\n",
        "url"
      ],
      "metadata": {
        "colab": {
          "base_uri": "https://localhost:8080/"
        },
        "id": "zaKcZ3kNjbn-",
        "outputId": "92b78100-8e1b-4500-9f21-45ad393707c5"
      },
      "execution_count": null,
      "outputs": [
        {
          "output_type": "execute_result",
          "data": {
            "text/plain": [
              "<NgrokTunnel: \"http://9418-34-90-163-58.ngrok-free.app\" -> \"http://localhost:80\">"
            ]
          },
          "metadata": {},
          "execution_count": 15
        }
      ]
    },
    {
      "cell_type": "code",
      "source": [
        "ngrok.kill()"
      ],
      "metadata": {
        "id": "AMYS53WijbiK"
      },
      "execution_count": null,
      "outputs": []
    },
    {
      "cell_type": "code",
      "source": [],
      "metadata": {
        "id": "qF5cPn3IgWog"
      },
      "execution_count": null,
      "outputs": []
    },
    {
      "cell_type": "code",
      "source": [],
      "metadata": {
        "id": "WKSnGbJIgWmE"
      },
      "execution_count": null,
      "outputs": []
    },
    {
      "cell_type": "code",
      "source": [],
      "metadata": {
        "id": "j004F1d8gWjt"
      },
      "execution_count": null,
      "outputs": []
    },
    {
      "cell_type": "code",
      "source": [],
      "metadata": {
        "id": "TmN7WRstgWhm"
      },
      "execution_count": null,
      "outputs": []
    },
    {
      "cell_type": "code",
      "source": [],
      "metadata": {
        "id": "LK7FJ9a_gWe9"
      },
      "execution_count": null,
      "outputs": []
    },
    {
      "cell_type": "code",
      "source": [],
      "metadata": {
        "id": "FS866Mwl2DW_"
      },
      "execution_count": null,
      "outputs": []
    }
  ]
}
